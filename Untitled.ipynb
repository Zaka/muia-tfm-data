{
 "cells": [
  {
   "cell_type": "code",
   "execution_count": 1,
   "metadata": {
    "autoscroll": "json-false",
    "collapsed": false,
    "ein.tags": [
     "worksheet-0"
    ]
   },
   "outputs": [
    {
     "name": "stdout",
     "output_type": "stream",
     "text": [
      "3.5.2 |Anaconda 4.1.1 (64-bit)| (default, Jul  2 2016, 17:53:06) \n",
      "[GCC 4.4.7 20120313 (Red Hat 4.4.7-1)]\n"
     ]
    }
   ],
   "source": [
    "import sys\n",
    "print(sys.version)"
   ]
  },
  {
   "cell_type": "code",
   "execution_count": 20,
   "metadata": {
    "autoscroll": "json-false",
    "collapsed": false,
    "ein.tags": [
     "worksheet-0"
    ]
   },
   "outputs": [],
   "source": [
    "import pandas as pd\n",
    "import numpy as np"
   ]
  },
  {
   "cell_type": "code",
   "execution_count": 121,
   "metadata": {
    "autoscroll": "json-false",
    "collapsed": false,
    "ein.tags": [
     "worksheet-0"
    ]
   },
   "outputs": [],
   "source": [
    "f = 'euro-price-in-usd.csv'\n",
    "df = pd.read_csv(f,\n",
    "                 parse_dates = True,\n",
    "                 dayfirst=True,\n",
    "                 index_col = 'Date')"
   ]
  },
  {
   "cell_type": "code",
   "execution_count": 122,
   "metadata": {
    "autoscroll": "json-false",
    "collapsed": false,
    "ein.tags": [
     "worksheet-0"
    ]
   },
   "outputs": [
    {
     "data": {
      "text/plain": [
       "4505"
      ]
     },
     "execution_count": 122,
     "metadata": {},
     "output_type": "execute_result"
    }
   ],
   "source": [
    "len(df)"
   ]
  },
  {
   "cell_type": "code",
   "execution_count": 130,
   "metadata": {
    "autoscroll": "json-false",
    "collapsed": false,
    "ein.tags": [
     "worksheet-0"
    ]
   },
   "outputs": [
    {
     "data": {
      "text/plain": [
       "Empty DataFrame\n",
       "Columns: [EuroPriceInUSD]\n",
       "Index: []"
      ]
     },
     "execution_count": 130,
     "metadata": {},
     "output_type": "execute_result"
    }
   ],
   "source": [
    "df.first('1W')"
   ]
  },
  {
   "cell_type": "code",
   "execution_count": 106,
   "metadata": {
    "autoscroll": "json-false",
    "collapsed": false,
    "ein.tags": [
     "worksheet-0"
    ]
   },
   "outputs": [
    {
     "data": {
      "text/plain": [
       "                     AvgBlockSize\n",
       "2009-01-03 18:15:05      0.000285\n",
       "2009-01-04 18:15:05      0.000000\n",
       "2009-01-05 18:15:05      0.000000\n",
       "2009-01-06 18:15:05      0.000000\n",
       "2009-01-07 18:15:05      0.000000\n",
       "2009-01-08 18:15:05      0.000000\n",
       "2009-01-09 18:15:05      0.000215\n",
       "2009-01-10 18:15:05      0.000215\n",
       "2009-01-11 18:15:05      0.000215\n",
       "2009-01-12 18:15:05      0.000232\n",
       "2009-01-13 18:15:05      0.000218\n",
       "2009-01-14 18:15:05      0.000216\n",
       "2009-01-15 18:15:05      0.000242\n",
       "2009-01-16 18:15:05      0.000218\n",
       "2009-01-17 18:15:05      0.000218\n",
       "2009-01-18 18:15:05      0.000216\n",
       "2009-01-19 18:15:05      0.000220\n",
       "2009-01-20 18:15:05      0.000233\n",
       "2009-01-21 18:15:05      0.000228\n",
       "2009-01-22 18:15:05      0.000231\n",
       "2009-01-23 18:15:05      0.000222\n",
       "2009-01-24 18:15:05      0.000226\n",
       "2009-01-25 18:15:05      0.000217\n",
       "2009-01-26 18:15:05      0.000216\n",
       "2009-01-27 18:15:05      0.000243\n",
       "2009-01-28 18:15:05      0.000216\n",
       "2009-01-29 18:15:05      0.000215\n",
       "2009-01-30 18:15:05      0.000228\n",
       "2009-01-31 18:15:05      0.000216\n",
       "2009-02-01 18:15:05      0.000238\n",
       "...                           ...\n",
       "2016-04-03 18:15:05      0.722675\n",
       "2016-04-04 18:15:05      0.665922\n",
       "2016-04-05 18:15:05      0.779197\n",
       "2016-04-06 18:15:05      0.715765\n",
       "2016-04-07 18:15:05      0.726767\n",
       "2016-04-08 18:15:05      0.735471\n",
       "2016-04-09 18:15:05      0.635034\n",
       "2016-04-10 18:15:05      0.566713\n",
       "2016-04-11 18:15:05      0.749973\n",
       "2016-04-12 18:15:05      0.794779\n",
       "2016-04-13 18:15:05      0.727887\n",
       "2016-04-14 18:15:05      0.745874\n",
       "2016-04-15 18:15:05      0.750909\n",
       "2016-04-16 18:15:05      0.708138\n",
       "2016-04-17 18:15:05      0.652977\n",
       "2016-04-18 18:15:05      0.783668\n",
       "2016-04-19 18:15:05      0.758763\n",
       "2016-04-20 18:15:05      0.798263\n",
       "2016-04-21 18:15:05      0.668973\n",
       "2016-04-22 18:15:05      0.796928\n",
       "2016-04-23 18:15:05      0.657125\n",
       "2016-04-24 18:15:05      0.699949\n",
       "2016-04-25 18:15:05      0.842110\n",
       "2016-04-26 18:15:05      0.800002\n",
       "2016-04-27 18:15:05      0.853189\n",
       "2016-04-28 18:15:05      0.904461\n",
       "2016-04-29 18:15:05      0.843205\n",
       "2016-04-30 18:15:05      0.780472\n",
       "2016-05-01 18:15:05      0.640654\n",
       "2016-05-02 18:15:05      0.737996\n",
       "\n",
       "[2677 rows x 1 columns]"
      ]
     },
     "execution_count": 106,
     "metadata": {},
     "output_type": "execute_result"
    }
   ],
   "source": [
    "# http://stackoverflow.com/questions/34326546/reindex-to-add-missing-dates-to-pandas-dataframe\n",
    "idx = pd.date_range(df.first('1D').index[0], df.last('1D').index[0])\n",
    "ordered_df = df.reindex(idx, fill_value = 'NaN')\n",
    "ordered_df"
   ]
  },
  {
   "cell_type": "code",
   "execution_count": 76,
   "metadata": {
    "autoscroll": "json-false",
    "collapsed": false,
    "ein.tags": [
     "worksheet-0"
    ]
   },
   "outputs": [],
   "source": [
    "ordered_df = ordered_df.astype(np.float64)"
   ]
  },
  {
   "cell_type": "code",
   "execution_count": 77,
   "metadata": {
    "autoscroll": "json-false",
    "collapsed": false,
    "ein.tags": [
     "worksheet-0"
    ]
   },
   "outputs": [
    {
     "data": {
      "text/plain": [
       "AvgBlockSize    float64\n",
       "dtype: object"
      ]
     },
     "execution_count": 77,
     "metadata": {},
     "output_type": "execute_result"
    }
   ],
   "source": [
    "ordered_df.dtypes"
   ]
  },
  {
   "cell_type": "code",
   "execution_count": 78,
   "metadata": {
    "autoscroll": "json-false",
    "collapsed": false,
    "ein.tags": [
     "worksheet-0"
    ]
   },
   "outputs": [
    {
     "data": {
      "text/plain": [
       "3067"
      ]
     },
     "execution_count": 78,
     "metadata": {},
     "output_type": "execute_result"
    }
   ],
   "source": [
    "interpolated_df = ordered_df.interpolate()\n",
    "len(interpolated_df)\n",
    "#interpolated_df.to_csv(f)"
   ]
  },
  {
   "cell_type": "code",
   "execution_count": 98,
   "metadata": {
    "autoscroll": "json-false",
    "collapsed": false,
    "ein.tags": [
     "worksheet-0"
    ]
   },
   "outputs": [
    {
     "data": {
      "text/plain": [
       "Timestamp('2009-01-03 18:15:05')"
      ]
     },
     "execution_count": 98,
     "metadata": {},
     "output_type": "execute_result"
    }
   ],
   "source": [
    "df.first('1D').index[0]"
   ]
  }
 ],
 "metadata": {
  "kernelspec": {
   "display_name": "Python [py3k]",
   "name": "Python [py3k]"
  },
  "name": "Untitled.ipynb"
 },
 "nbformat": 4,
 "nbformat_minor": 0
}
