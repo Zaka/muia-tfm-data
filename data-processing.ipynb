{
 "cells": [
  {
   "cell_type": "code",
   "execution_count": 4,
   "metadata": {
    "autoscroll": "json-false",
    "collapsed": false,
    "ein.tags": [
     "worksheet-0"
    ]
   },
   "outputs": [
    {
     "name": "stdout",
     "output_type": "stream",
     "text": [
      "Populating the interactive namespace from numpy and matplotlib\n"
     ]
    }
   ],
   "source": [
    "%pylab inline\n",
    "import pandas as pd"
   ]
  },
  {
   "cell_type": "code",
   "execution_count": 64,
   "metadata": {
    "autoscroll": "json-false",
    "collapsed": false,
    "ein.tags": [
     "worksheet-0"
    ]
   },
   "outputs": [],
   "source": [
    "csv_list = []"
   ]
  },
  {
   "cell_type": "code",
   "execution_count": 65,
   "metadata": {
    "autoscroll": "json-false",
    "collapsed": false,
    "ein.tags": [
     "worksheet-0"
    ]
   },
   "outputs": [],
   "source": [
    "csv_list.append(pd.read_csv(\"avg-block-size.csv\"))"
   ]
  },
  {
   "cell_type": "code",
   "execution_count": 66,
   "metadata": {
    "autoscroll": "json-false",
    "collapsed": false,
    "ein.tags": [
     "worksheet-0"
    ]
   },
   "outputs": [
    {
     "data": {
      "text/plain": [
       "[                     Date  AvgBlockSize\n 0     03/01/2009 18:15:05      0.000285\n 1     04/01/2009 18:15:05      0.000000\n 2     05/01/2009 18:15:05      0.000000\n 3     06/01/2009 18:15:05      0.000000\n 4     07/01/2009 18:15:05      0.000000\n 5     08/01/2009 18:15:05      0.000000\n 6     09/01/2009 18:15:05      0.000215\n 7     10/01/2009 18:15:05      0.000215\n 8     11/01/2009 18:15:05      0.000215\n 9     12/01/2009 18:15:05      0.000232\n 10    13/01/2009 18:15:05      0.000218\n 11    14/01/2009 18:15:05      0.000216\n 12    15/01/2009 18:15:05      0.000242\n 13    16/01/2009 18:15:05      0.000218\n 14    17/01/2009 18:15:05      0.000218\n 15    18/01/2009 18:15:05      0.000216\n 16    19/01/2009 18:15:05      0.000220\n 17    20/01/2009 18:15:05      0.000233\n 18    21/01/2009 18:15:05      0.000228\n 19    22/01/2009 18:15:05      0.000231\n 20    23/01/2009 18:15:05      0.000222\n 21    24/01/2009 18:15:05      0.000226\n 22    25/01/2009 18:15:05      0.000217\n 23    26/01/2009 18:15:05      0.000216\n 24    27/01/2009 18:15:05      0.000243\n 25    28/01/2009 18:15:05      0.000216\n 26    29/01/2009 18:15:05      0.000215\n 27    30/01/2009 18:15:05      0.000228\n 28    31/01/2009 18:15:05      0.000216\n 29    01/02/2009 18:15:05      0.000238\n ...                   ...           ...\n 2643  30/03/2016 18:15:05      0.807928\n 2644  31/03/2016 18:15:05      0.837659\n 2645  01/04/2016 18:15:05      0.731608\n 2646  02/04/2016 18:15:05      0.825544\n 2647  03/04/2016 18:15:05      0.722675\n 2648  04/04/2016 18:15:05      0.665922\n 2649  05/04/2016 18:15:05      0.779197\n 2650  06/04/2016 18:15:05      0.715765\n 2651  07/04/2016 18:15:05      0.726767\n 2652  08/04/2016 18:15:05      0.735471\n 2653  09/04/2016 18:15:05      0.635034\n 2654  10/04/2016 18:15:05      0.566713\n 2655  11/04/2016 18:15:05      0.749973\n 2656  12/04/2016 18:15:05      0.794779\n 2657  13/04/2016 18:15:05      0.727887\n 2658  14/04/2016 18:15:05      0.745874\n 2659  15/04/2016 18:15:05      0.750909\n 2660  16/04/2016 18:15:05      0.708138\n 2661  17/04/2016 18:15:05      0.652977\n 2662  18/04/2016 18:15:05      0.783668\n 2663  19/04/2016 18:15:05      0.758763\n 2664  20/04/2016 18:15:05      0.798263\n 2665  21/04/2016 18:15:05      0.668973\n 2666  22/04/2016 18:15:05      0.796928\n 2667  23/04/2016 18:15:05      0.657125\n 2668  24/04/2016 18:15:05      0.699949\n 2669  25/04/2016 18:15:05      0.842110\n 2670  26/04/2016 18:15:05      0.800002\n 2671  27/04/2016 18:15:05      0.853189\n 2672  28/04/2016 18:15:05      0.904461\n \n [2673 rows x 2 columns]]"
      ]
     },
     "execution_count": 66,
     "metadata": {},
     "output_type": "execute_result"
    }
   ],
   "source": [
    "csv_list"
   ]
  },
  {
   "cell_type": "code",
   "execution_count": 67,
   "metadata": {
    "autoscroll": "json-false",
    "collapsed": false,
    "ein.tags": [
     "worksheet-0"
    ]
   },
   "outputs": [],
   "source": [
    "csv_list.append(pd.read_csv(\"bitcoin-days-destroyed.csv\"))"
   ]
  },
  {
   "cell_type": "code",
   "execution_count": 68,
   "metadata": {
    "autoscroll": "json-false",
    "collapsed": false,
    "ein.tags": [
     "worksheet-0"
    ]
   },
   "outputs": [],
   "source": [
    "csv_list.append(pd.read_csv(\"blocks-size.csv\"))"
   ]
  },
  {
   "cell_type": "code",
   "execution_count": 69,
   "metadata": {
    "autoscroll": "json-false",
    "collapsed": false,
    "ein.tags": [
     "worksheet-0"
    ]
   },
   "outputs": [],
   "source": [
    "csv_list.append(pd.read_csv(\"cost-per-transaction.csv\"))"
   ]
  },
  {
   "cell_type": "code",
   "execution_count": 70,
   "metadata": {
    "autoscroll": "json-false",
    "collapsed": false,
    "ein.tags": [
     "worksheet-0"
    ]
   },
   "outputs": [],
   "source": [
    "csv_list.append(pd.read_csv(\"cost-per-transaction-percent.csv\"))"
   ]
  },
  {
   "cell_type": "code",
   "execution_count": 71,
   "metadata": {
    "autoscroll": "json-false",
    "collapsed": false,
    "ein.tags": [
     "worksheet-0"
    ]
   },
   "outputs": [],
   "source": [
    "csv_list.append(pd.read_csv(\"difficulty.csv\"))"
   ]
  },
  {
   "cell_type": "code",
   "execution_count": 72,
   "metadata": {
    "autoscroll": "json-false",
    "collapsed": false,
    "ein.tags": [
     "worksheet-0"
    ]
   },
   "outputs": [],
   "source": [
    "csv_list.append(pd.read_csv(\"estimated-transaction-volume.csv\"))"
   ]
  },
  {
   "cell_type": "code",
   "execution_count": 73,
   "metadata": {
    "autoscroll": "json-false",
    "collapsed": false,
    "ein.tags": [
     "worksheet-0"
    ]
   },
   "outputs": [],
   "source": [
    "csv_list.append(pd.read_csv(\"estimated-transaction-volume-usd.csv\"))"
   ]
  },
  {
   "cell_type": "code",
   "execution_count": 74,
   "metadata": {
    "autoscroll": "json-false",
    "collapsed": false,
    "ein.tags": [
     "worksheet-0"
    ]
   },
   "outputs": [],
   "source": [
    "csv_list.append(pd.read_csv(\"euro-price-in-usd.csv\"))"
   ]
  },
  {
   "cell_type": "code",
   "execution_count": 75,
   "metadata": {
    "autoscroll": "json-false",
    "collapsed": false,
    "ein.tags": [
     "worksheet-0"
    ]
   },
   "outputs": [],
   "source": [
    "csv_list.append(pd.read_csv(\"hash-rate.csv\"))"
   ]
  },
  {
   "cell_type": "code",
   "execution_count": 76,
   "metadata": {
    "autoscroll": "json-false",
    "collapsed": false,
    "ein.tags": [
     "worksheet-0"
    ]
   },
   "outputs": [],
   "source": [
    "csv_list.append(pd.read_csv(\"market-cap.csv\"))"
   ]
  },
  {
   "cell_type": "code",
   "execution_count": 77,
   "metadata": {
    "autoscroll": "json-false",
    "collapsed": false,
    "ein.tags": [
     "worksheet-0"
    ]
   },
   "outputs": [],
   "source": [
    "csv_list.append(pd.read_csv(\"market-price.csv\"))"
   ]
  },
  {
   "cell_type": "code",
   "execution_count": 78,
   "metadata": {
    "autoscroll": "json-false",
    "collapsed": false,
    "ein.tags": [
     "worksheet-0"
    ]
   },
   "outputs": [],
   "source": [
    "csv_list.append(pd.read_csv(\"median-confirmation-time.csv\"))"
   ]
  },
  {
   "cell_type": "code",
   "execution_count": 79,
   "metadata": {
    "autoscroll": "json-false",
    "collapsed": false,
    "ein.tags": [
     "worksheet-0"
    ]
   },
   "outputs": [],
   "source": [
    "csv_list.append(pd.read_csv(\"miners-revenue.csv\"))"
   ]
  },
  {
   "cell_type": "code",
   "execution_count": 80,
   "metadata": {
    "autoscroll": "json-false",
    "collapsed": false,
    "ein.tags": [
     "worksheet-0"
    ]
   },
   "outputs": [],
   "source": [
    "csv_list.append(pd.read_csv(\"network-deficit.csv\"))"
   ]
  },
  {
   "cell_type": "code",
   "execution_count": 81,
   "metadata": {
    "autoscroll": "json-false",
    "collapsed": false,
    "ein.tags": [
     "worksheet-0"
    ]
   },
   "outputs": [],
   "source": [
    "csv_list.append(pd.read_csv(\"n-transactions-multiple.csv\"))"
   ]
  },
  {
   "cell_type": "code",
   "execution_count": 82,
   "metadata": {
    "autoscroll": "json-false",
    "collapsed": false,
    "ein.tags": [
     "worksheet-0"
    ]
   },
   "outputs": [],
   "source": [
    "csv_list.append(pd.read_csv(\"n-transactions-per-block.csv\"))"
   ]
  },
  {
   "cell_type": "code",
   "execution_count": 83,
   "metadata": {
    "autoscroll": "json-false",
    "collapsed": false,
    "ein.tags": [
     "worksheet-0"
    ]
   },
   "outputs": [],
   "source": [
    "csv_list.append(pd.read_csv(\"n-transactions-total.csv\"))"
   ]
  },
  {
   "cell_type": "code",
   "execution_count": 84,
   "metadata": {
    "autoscroll": "json-false",
    "collapsed": false,
    "ein.tags": [
     "worksheet-0"
    ]
   },
   "outputs": [],
   "source": [
    "csv_list.append(pd.read_csv(\"n-unique-addresses.csv\"))"
   ]
  },
  {
   "cell_type": "code",
   "execution_count": 85,
   "metadata": {
    "autoscroll": "json-false",
    "collapsed": false,
    "ein.tags": [
     "worksheet-0"
    ]
   },
   "outputs": [],
   "source": [
    "csv_list.append(pd.read_csv(\"output-volume.csv\"))"
   ]
  },
  {
   "cell_type": "code",
   "execution_count": 86,
   "metadata": {
    "autoscroll": "json-false",
    "collapsed": false,
    "ein.tags": [
     "worksheet-0"
    ]
   },
   "outputs": [],
   "source": [
    "csv_list.append(pd.read_csv(\"standard-and-poors-500.csv\"))"
   ]
  },
  {
   "cell_type": "code",
   "execution_count": 87,
   "metadata": {
    "autoscroll": "json-false",
    "collapsed": false,
    "ein.tags": [
     "worksheet-0"
    ]
   },
   "outputs": [],
   "source": [
    "csv_list.append(pd.read_csv(\"total-bitcoins.csv\"))"
   ]
  },
  {
   "cell_type": "code",
   "execution_count": 88,
   "metadata": {
    "autoscroll": "json-false",
    "collapsed": false,
    "ein.tags": [
     "worksheet-0"
    ]
   },
   "outputs": [],
   "source": [
    "csv_list.append(pd.read_csv(\"trade-volume.csv\"))"
   ]
  },
  {
   "cell_type": "code",
   "execution_count": 89,
   "metadata": {
    "autoscroll": "json-false",
    "collapsed": false,
    "ein.tags": [
     "worksheet-0"
    ]
   },
   "outputs": [],
   "source": [
    "csv_list.append(pd.read_csv(\"transaction-fees.csv\"))"
   ]
  },
  {
   "cell_type": "code",
   "execution_count": 90,
   "metadata": {
    "autoscroll": "json-false",
    "collapsed": false,
    "ein.tags": [
     "worksheet-0"
    ]
   },
   "outputs": [],
   "source": [
    "csv_list.append(pd.read_csv(\"transaction-fees-usd.csv\"))"
   ]
  },
  {
   "cell_type": "code",
   "execution_count": 91,
   "metadata": {
    "autoscroll": "json-false",
    "collapsed": false,
    "ein.tags": [
     "worksheet-0"
    ]
   },
   "outputs": [],
   "source": [
    "csv_list.append(pd.read_csv(\"tx-trade-ratio.csv\"))"
   ]
  },
  {
   "cell_type": "code",
   "execution_count": 92,
   "metadata": {
    "autoscroll": "json-false",
    "collapsed": false,
    "ein.tags": [
     "worksheet-0"
    ]
   },
   "outputs": [],
   "source": [
    "csv_list.append(pd.read_csv(\"wikipedia-trends-bitcoin-may-2016.csv\"))"
   ]
  },
  {
   "cell_type": "code",
   "execution_count": 94,
   "metadata": {
    "autoscroll": "json-false",
    "collapsed": false,
    "ein.tags": [
     "worksheet-0"
    ]
   },
   "outputs": [],
   "source": [
    "merged = csv_list[0].merge(csv_list[1],\n",
    "                           on = 'Date')                           "
   ]
  },
  {
   "cell_type": "code",
   "execution_count": 95,
   "metadata": {
    "autoscroll": "json-false",
    "collapsed": false,
    "ein.tags": [
     "worksheet-0"
    ]
   },
   "outputs": [
    {
     "data": {
      "text/plain": [
       "                     Date  AvgBlockSize  BitcoiDaysDestroyed  \\\n0     03/01/2009 18:15:05      0.000285                  0.0   \n1     04/01/2009 18:15:05      0.000000                  0.0   \n2     05/01/2009 18:15:05      0.000000                  0.0   \n3     06/01/2009 18:15:05      0.000000                  0.0   \n4     07/01/2009 18:15:05      0.000000                  0.0   \n5     08/01/2009 18:15:05      0.000000                  0.0   \n6     09/01/2009 18:15:05      0.000215                  0.0   \n7     10/01/2009 18:15:05      0.000215                  0.0   \n8     11/01/2009 18:15:05      0.000215                  0.0   \n9     12/01/2009 18:15:05      0.000232                153.0   \n10    13/01/2009 18:15:05      0.000218                 15.0   \n11    14/01/2009 18:15:05      0.000216                  0.0   \n12    15/01/2009 18:15:05      0.000242                750.0   \n13    16/01/2009 18:15:05      0.000218                164.0   \n14    17/01/2009 18:15:05      0.000218                243.0   \n15    18/01/2009 18:15:05      0.000216                  0.0   \n16    19/01/2009 18:15:05      0.000220                335.0   \n17    20/01/2009 18:15:05      0.000233               3071.0   \n18    21/01/2009 18:15:05      0.000228               1854.0   \n19    22/01/2009 18:15:05      0.000231               1963.0   \n20    23/01/2009 18:15:05      0.000222                695.0   \n21    24/01/2009 18:15:05      0.000226               3294.0   \n22    25/01/2009 18:15:05      0.000217                 88.0   \n23    26/01/2009 18:15:05      0.000216                  0.0   \n24    27/01/2009 18:15:05      0.000243               3328.0   \n25    28/01/2009 18:15:05      0.000216                  0.0   \n26    29/01/2009 18:15:05      0.000215                  0.0   \n27    30/01/2009 18:15:05      0.000228               1492.0   \n28    31/01/2009 18:15:05      0.000216                  0.0   \n29    01/02/2009 18:15:05      0.000238              12416.0   \n...                   ...           ...                  ...   \n2643  30/03/2016 18:15:05      0.807928            6392872.0   \n2644  31/03/2016 18:15:05      0.837659            9464729.0   \n2645  01/04/2016 18:15:05      0.731608            7903038.0   \n2646  02/04/2016 18:15:05      0.825544            6076690.0   \n2647  03/04/2016 18:15:05      0.722675            4027577.0   \n2648  04/04/2016 18:15:05      0.665922            6160653.0   \n2649  05/04/2016 18:15:05      0.779197            6063273.0   \n2650  06/04/2016 18:15:05      0.715765            7302338.0   \n2651  07/04/2016 18:15:05      0.726767           24288622.0   \n2652  08/04/2016 18:15:05      0.735471            4788319.0   \n2653  09/04/2016 18:15:05      0.635034            4056701.0   \n2654  10/04/2016 18:15:05      0.566713            8538101.0   \n2655  11/04/2016 18:15:05      0.749973            9141027.0   \n2656  12/04/2016 18:15:05      0.794779            9581351.0   \n2657  13/04/2016 18:15:05      0.727887            5444067.0   \n2658  14/04/2016 18:15:05      0.745874            3809420.0   \n2659  15/04/2016 18:15:05      0.750909            4521966.0   \n2660  16/04/2016 18:15:05      0.708138            3920340.0   \n2661  17/04/2016 18:15:05      0.652977            4339783.0   \n2662  18/04/2016 18:15:05      0.783668            4472801.0   \n2663  19/04/2016 18:15:05      0.758763            4352130.0   \n2664  20/04/2016 18:15:05      0.798263            5792286.0   \n2665  21/04/2016 18:15:05      0.668973            4427440.0   \n2666  22/04/2016 18:15:05      0.796928            5847194.0   \n2667  23/04/2016 18:15:05      0.657125            4753074.0   \n2668  24/04/2016 18:15:05      0.699949            6244225.0   \n2669  25/04/2016 18:15:05      0.842110           13225144.0   \n2670  26/04/2016 18:15:05      0.800002            7955625.0   \n2671  27/04/2016 18:15:05      0.853189            5987258.0   \n2672  28/04/2016 18:15:05      0.904461            5513982.0   \n\n      BitcoinDaysDestroyedCumulative  BitcoinDaysDestroyedMinMonth  \\\n0                       0.000000e+00                           0.0   \n1                       0.000000e+00                           0.0   \n2                       0.000000e+00                           0.0   \n3                       0.000000e+00                           0.0   \n4                       0.000000e+00                           0.0   \n5                       0.000000e+00                           0.0   \n6                       0.000000e+00                           0.0   \n7                       0.000000e+00                           0.0   \n8                       0.000000e+00                           0.0   \n9                       1.530000e+02                           0.0   \n10                      1.680000e+02                           0.0   \n11                      1.680000e+02                           0.0   \n12                      9.180000e+02                           0.0   \n13                      1.082000e+03                           0.0   \n14                      1.325000e+03                           0.0   \n15                      1.325000e+03                           0.0   \n16                      1.660000e+03                           0.0   \n17                      4.731000e+03                           0.0   \n18                      6.585000e+03                           0.0   \n19                      8.548000e+03                           0.0   \n20                      9.243000e+03                           0.0   \n21                      1.253700e+04                           0.0   \n22                      1.262500e+04                           0.0   \n23                      1.262500e+04                           0.0   \n24                      1.595300e+04                           0.0   \n25                      1.595300e+04                           0.0   \n26                      1.595300e+04                           0.0   \n27                      1.744500e+04                           0.0   \n28                      1.744500e+04                           0.0   \n29                      2.986100e+04                           0.0   \n...                              ...                           ...   \n2643                    1.088867e+10                     5202709.0   \n2644                    1.089813e+10                     8767948.0   \n2645                    1.090604e+10                     6837726.0   \n2646                    1.091211e+10                     5407403.0   \n2647                    1.091614e+10                     3573071.0   \n2648                    1.092230e+10                     4686141.0   \n2649                    1.092837e+10                     4958963.0   \n2650                    1.093567e+10                     6383802.0   \n2651                    1.095996e+10                    23445706.0   \n2652                    1.096475e+10                     3837941.0   \n2653                    1.096880e+10                     3069999.0   \n2654                    1.097734e+10                     7689017.0   \n2655                    1.098648e+10                     8108048.0   \n2656                    1.099606e+10                     8630584.0   \n2657                    1.100151e+10                     4386964.0   \n2658                    1.100532e+10                     2944643.0   \n2659                    1.100984e+10                     3580897.0   \n2660                    1.101376e+10                     2953908.0   \n2661                    1.101810e+10                     3861755.0   \n2662                    1.102257e+10                     3598068.0   \n2663                    1.102692e+10                     3301927.0   \n2664                    1.103272e+10                     4728528.0   \n2665                    1.103714e+10                     3447094.0   \n2666                    1.104299e+10                     5059349.0   \n2667                    1.104774e+10                     4359719.0   \n2668                    1.105399e+10                     5599689.0   \n2669                    1.106721e+10                    11814286.0   \n2670                    1.107517e+10                     5487133.0   \n2671                    1.108116e+10                     5176128.0   \n2672                    1.108667e+10                     4773624.0   \n\n      BitcoinDaysDestroyedMinWeek  BitcoinDaysDestroyedMinYear  \n0                             0.0                          0.0  \n1                             0.0                          0.0  \n2                             0.0                          0.0  \n3                             0.0                          0.0  \n4                             0.0                          0.0  \n5                             0.0                          0.0  \n6                             0.0                          0.0  \n7                             0.0                          0.0  \n8                             0.0                          0.0  \n9                             0.0                          0.0  \n10                            0.0                          0.0  \n11                            0.0                          0.0  \n12                            0.0                          0.0  \n13                            0.0                          0.0  \n14                            0.0                          0.0  \n15                            0.0                          0.0  \n16                            0.0                          0.0  \n17                            0.0                          0.0  \n18                            0.0                          0.0  \n19                          795.0                          0.0  \n20                            0.0                          0.0  \n21                          408.0                          0.0  \n22                            0.0                          0.0  \n23                            0.0                          0.0  \n24                            0.0                          0.0  \n25                            0.0                          0.0  \n26                            0.0                          0.0  \n27                            0.0                          0.0  \n28                            0.0                          0.0  \n29                        12302.0                          0.0  \n...                           ...                          ...  \n2643                    5846448.0                    1826780.0  \n2644                    9209581.0                    5205466.0  \n2645                    7571134.0                    4762824.0  \n2646                    5815879.0                    4301483.0  \n2647                    3813101.0                    1898977.0  \n2648                    5354652.0                    2697960.0  \n2649                    5616912.0                    3606110.0  \n2650                    6933310.0                    2161677.0  \n2651                   23945696.0                    2542886.0  \n2652                    4453636.0                    2256682.0  \n2653                    3840690.0                    1858537.0  \n2654                    8270543.0                    4219500.0  \n2655                    8745756.0                    4169237.0  \n2656                    9161556.0                    5897739.0  \n2657                    5100098.0                    2957121.0  \n2658                    3527449.0                    1547041.0  \n2659                    4128831.0                    1684795.0  \n2660                    3668054.0                    1230042.0  \n2661                    4102208.0                    2980851.0  \n2662                    4031194.0                    2236791.0  \n2663                    3976936.0                    1812703.0  \n2664                    5417186.0                    3341334.0  \n2665                    4083494.0                    1574220.0  \n2666                    5555036.0                    3786984.0  \n2667                    4534803.0                    2285721.0  \n2668                    6011661.0                    2247042.0  \n2669                   12856448.0                    9605242.0  \n2670                    7526508.0                    3329093.0  \n2671                    5537663.0                    1821206.0  \n2672                    5184343.0                    2223911.0  \n\n[2673 rows x 7 columns]"
      ]
     },
     "execution_count": 95,
     "metadata": {},
     "output_type": "execute_result"
    }
   ],
   "source": [
    "merged"
   ]
  },
  {
   "cell_type": "code",
   "execution_count": 96,
   "metadata": {
    "autoscroll": "json-false",
    "collapsed": false,
    "ein.tags": [
     "worksheet-0"
    ]
   },
   "outputs": [
    {
     "data": {
      "text/plain": [
       "['Date',\n 'AvgBlockSize',\n 'BitcoiDaysDestroyed',\n 'BitcoinDaysDestroyedCumulative',\n 'BitcoinDaysDestroyedMinMonth',\n 'BitcoinDaysDestroyedMinWeek',\n 'BitcoinDaysDestroyedMinYear']"
      ]
     },
     "execution_count": 96,
     "metadata": {},
     "output_type": "execute_result"
    }
   ],
   "source": [
    "list(merged.columns.values)"
   ]
  },
  {
   "cell_type": "code",
   "execution_count": 98,
   "metadata": {
    "autoscroll": "json-false",
    "collapsed": false,
    "ein.tags": [
     "worksheet-0"
    ]
   },
   "outputs": [],
   "source": [
    "merged = csv_list[0].copy()"
   ]
  },
  {
   "cell_type": "code",
   "execution_count": 101,
   "metadata": {
    "autoscroll": "json-false",
    "collapsed": false,
    "ein.tags": [
     "worksheet-0"
    ]
   },
   "outputs": [],
   "source": [
    "for df in csv_list:\n",
    "    merged = merged.merge(df, on = 'Date')"
   ]
  },
  {
   "cell_type": "code",
   "execution_count": 102,
   "metadata": {
    "autoscroll": "json-false",
    "collapsed": false,
    "ein.tags": [
     "worksheet-0"
    ]
   },
   "outputs": [
    {
     "data": {
      "text/plain": [
       "['AvgBlockSize_x',\n 'AvgBlockSize_y',\n 'BitcoiDaysDestroyed_x',\n 'BitcoinDaysDestroyedCumulative_x',\n 'BitcoinDaysDestroyedMinMonth_x',\n 'BitcoinDaysDestroyedMinWeek_x',\n 'BitcoinDaysDestroyedMinYear_x',\n 'BlockSize_x',\n 'CostPerTransaction_x',\n 'CostPerTransactionPercent_x',\n 'Difficulty_x',\n 'EstimatedTransactionVolume_x',\n 'EstimatedTransactionVolumeUSD_x',\n 'EuroPriceInUSD_x',\n 'HashRate_x',\n 'MarketCap_x',\n 'MarketPrice_x',\n 'MedianConfirmationTime_x',\n 'MinersRevenue_x',\n 'NetworkDeficit_x',\n 'NumTransactions_x',\n 'NumTransactionsExcluding10_x',\n 'NumTransactionsExcluding100_x',\n 'NumTransactionsExcluding1000_x',\n 'NumTransactionsExcluding10000_x',\n 'NumTransactionsExcludingPopular_x',\n 'NumTransactionsPerBlock_x',\n 'NumTransactionsTotal_x',\n 'NumUniqueAdresses_x',\n 'OutputVolume_x',\n 'Open_x',\n 'High_x',\n 'Low_x',\n 'Close_x',\n 'Volume_x',\n 'Adj Close_x',\n 'TotalBitcoins_x',\n 'TradeVolume_x',\n 'TransactionFees_x',\n 'TransactionFeesUSD_x',\n 'TxTradeRatio_x',\n 'WikipediaTrend_x',\n 'AvgBlockSize',\n 'BitcoiDaysDestroyed_y',\n 'BitcoinDaysDestroyedCumulative_y',\n 'BitcoinDaysDestroyedMinMonth_y',\n 'BitcoinDaysDestroyedMinWeek_y',\n 'BitcoinDaysDestroyedMinYear_y',\n 'BlockSize_y',\n 'CostPerTransaction_y',\n 'CostPerTransactionPercent_y',\n 'Difficulty_y',\n 'EstimatedTransactionVolume_y',\n 'EstimatedTransactionVolumeUSD_y',\n 'EuroPriceInUSD_y',\n 'HashRate_y',\n 'MarketCap_y',\n 'MarketPrice_y',\n 'MedianConfirmationTime_y',\n 'MinersRevenue_y',\n 'NetworkDeficit_y',\n 'NumTransactions_y',\n 'NumTransactionsExcluding10_y',\n 'NumTransactionsExcluding100_y',\n 'NumTransactionsExcluding1000_y',\n 'NumTransactionsExcluding10000_y',\n 'NumTransactionsExcludingPopular_y',\n 'NumTransactionsPerBlock_y',\n 'NumTransactionsTotal_y',\n 'NumUniqueAdresses_y',\n 'OutputVolume_y',\n 'Open_y',\n 'High_y',\n 'Low_y',\n 'Close_y',\n 'Volume_y',\n 'Adj Close_y',\n 'TotalBitcoins_y',\n 'TradeVolume_y',\n 'TransactionFees_y',\n 'TransactionFeesUSD_y',\n 'TxTradeRatio_y',\n 'Date',\n 'WikipediaTrend_y']"
      ]
     },
     "execution_count": 102,
     "metadata": {},
     "output_type": "execute_result"
    }
   ],
   "source": [
    "list(merged.columns.values)"
   ]
  },
  {
   "cell_type": "code",
   "execution_count": 106,
   "metadata": {
    "autoscroll": "json-false",
    "collapsed": false,
    "ein.tags": [
     "worksheet-0"
    ]
   },
   "outputs": [],
   "source": [
    "merged.to_csv('merged.csv')"
   ]
  },
  {
   "cell_type": "code",
   "execution_count": 107,
   "metadata": {
    "autoscroll": "json-false",
    "collapsed": false,
    "ein.tags": [
     "worksheet-0"
    ]
   },
   "outputs": [
    {
     "data": {
      "text/plain": [
       "u'/home/zaka/projects/muia-tfm-data'"
      ]
     },
     "execution_count": 107,
     "metadata": {},
     "output_type": "execute_result"
    }
   ],
   "source": [
    "pwd"
   ]
  },
  {
   "cell_type": "code",
   "execution_count": 51,
   "metadata": {
    "autoscroll": "json-false",
    "collapsed": false,
    "ein.tags": [
     "worksheet-0"
    ]
   },
   "outputs": [],
   "source": [
    "csv_list = []"
   ]
  },
  {
   "cell_type": "code",
   "execution_count": 52,
   "metadata": {
    "autoscroll": "json-false",
    "collapsed": false,
    "ein.tags": [
     "worksheet-0"
    ]
   },
   "outputs": [],
   "source": [
    "file_list = ['avg-block-size.csv',\n",
    "             'bitcoin-days-destroyed.csv',\n",
    "             'blocks-size.csv',\n",
    "             'cost-per-transaction.csv',\n",
    "             'cost-per-transaction-percent.csv',\n",
    "             'difficulty.csv',\n",
    "             'estimated-transaction-volume.csv',\n",
    "             'estimated-transaction-volume-usd.csv',\n",
    "             'euro-price-in-usd.csv',\n",
    "             'hash-rate.csv',\n",
    "             'market-cap.csv',\n",
    "             'market-price.csv',\n",
    "             'median-confirmation-time.csv',\n",
    "             'miners-revenue.csv',\n",
    "             'network-deficit.csv',\n",
    "             'n-transactions-multiple.csv',\n",
    "             'n-transactions-per-block.csv',\n",
    "             'n-transactions-total.csv',\n",
    "             'n-unique-addresses.csv',\n",
    "             'output-volume.csv',\n",
    "             'standard-and-poors-500.csv',\n",
    "             'total-bitcoins.csv',\n",
    "             'trade-volume.csv',\n",
    "             'transaction-fees.csv',\n",
    "             'transaction-fees-usd.csv',\n",
    "             'tx-trade-ratio.csv',\n",
    "             'wikipedia-trends-bitcoin-may-2016.csv']\n",
    "\n",
    "for f in file_list:\n",
    "    csv_list.append(pd.read_csv(f))\n"
   ]
  },
  {
   "cell_type": "code",
   "execution_count": 53,
   "metadata": {
    "autoscroll": "json-false",
    "collapsed": false,
    "ein.tags": [
     "worksheet-0"
    ]
   },
   "outputs": [],
   "source": [
    "merged = csv_list[0]\n",
    "del csv_list[0]"
   ]
  },
  {
   "cell_type": "code",
   "execution_count": 54,
   "metadata": {
    "autoscroll": "json-false",
    "collapsed": false,
    "ein.tags": [
     "worksheet-0"
    ]
   },
   "outputs": [
    {
     "name": "stdout",
     "output_type": "stream",
     "text": [
      "Index([u'Date', u'BitcoiDaysDestroyed', u'BitcoinDaysDestroyedCumulative',\n",
      "       u'BitcoinDaysDestroyedMinMonth', u'BitcoinDaysDestroyedMinWeek',\n",
      "       u'BitcoinDaysDestroyedMinYear'],\n",
      "      dtype='object')\n",
      "Index([u'Date', u'BlockSize'], dtype='object')\n",
      "Index([u'Date', u'CostPerTransaction'], dtype='object')\n",
      "Index([u'Date', u'CostPerTransactionPercent'], dtype='object')\n",
      "Index([u'Date', u'Difficulty'], dtype='object')\n",
      "Index([u'Date', u'EstimatedTransactionVolume'], dtype='object')\n",
      "Index([u'Date', u'EstimatedTransactionVolumeUSD'], dtype='object')\n",
      "Index([u'Date', u'EuroPriceInUSD'], dtype='object')\n",
      "Index([u'Date', u'HashRate'], dtype='object')\n",
      "Index([u'Date', u'MarketCap'], dtype='object')\n",
      "Index([u'Date', u'MarketPrice'], dtype='object')\n",
      "Index([u'Date', u'MedianConfirmationTime'], dtype='object')\n",
      "Index([u'Date', u'MinersRevenue'], dtype='object')\n",
      "Index([u'Date', u'NetworkDeficit'], dtype='object')\n",
      "Index([u'Date', u'NumTransactions', u'NumTransactionsExcluding10',\n",
      "       u'NumTransactionsExcluding100', u'NumTransactionsExcluding1000',\n",
      "       u'NumTransactionsExcluding10000', u'NumTransactionsExcludingPopular'],\n",
      "      dtype='object')\n",
      "Index([u'Date', u'NumTransactionsPerBlock'], dtype='object')\n",
      "Index([u'Date', u'NumTransactionsTotal'], dtype='object')\n",
      "Index([u'Date', u'NumUniqueAdresses'], dtype='object')\n",
      "Index([u'Date', u'OutputVolume'], dtype='object')\n",
      "Index([u'Date', u'Open', u'High', u'Low', u'Close', u'Volume', u'Adj Close'], dtype='object')\n",
      "Index([u'Date', u'TotalBitcoins'], dtype='object')\n",
      "Index([u'Date', u'TradeVolume'], dtype='object')\n",
      "Index([u'Date', u'TransactionFees'], dtype='object')\n",
      "Index([u'Date', u'TransactionFeesUSD'], dtype='object')\n",
      "Index([u'Date', u'TxTradeRatio'], dtype='object')\n",
      "Index([u'Date', u'WikipediaTrend'], dtype='object')\n"
     ]
    }
   ],
   "source": [
    "for df in csv_list:\n",
    "    print(df.columns)"
   ]
  },
  {
   "cell_type": "code",
   "execution_count": 55,
   "metadata": {
    "autoscroll": "json-false",
    "collapsed": false,
    "ein.tags": [
     "worksheet-0"
    ]
   },
   "outputs": [],
   "source": [
    "for df in csv_list:\n",
    "    merged = merged.merge(df, on='Date')"
   ]
  },
  {
   "cell_type": "code",
   "execution_count": 56,
   "metadata": {
    "autoscroll": "json-false",
    "collapsed": false,
    "ein.tags": [
     "worksheet-0"
    ]
   },
   "outputs": [
    {
     "data": {
      "text/plain": [
       "Index([u'Date', u'AvgBlockSize', u'BitcoiDaysDestroyed',\n",
       "       u'BitcoinDaysDestroyedCumulative', u'BitcoinDaysDestroyedMinMonth',\n",
       "       u'BitcoinDaysDestroyedMinWeek', u'BitcoinDaysDestroyedMinYear',\n",
       "       u'BlockSize', u'CostPerTransaction', u'CostPerTransactionPercent',\n",
       "       u'Difficulty', u'EstimatedTransactionVolume',\n",
       "       u'EstimatedTransactionVolumeUSD', u'EuroPriceInUSD', u'HashRate',\n",
       "       u'MarketCap', u'MarketPrice', u'MedianConfirmationTime',\n",
       "       u'MinersRevenue', u'NetworkDeficit', u'NumTransactions',\n",
       "       u'NumTransactionsExcluding10', u'NumTransactionsExcluding100',\n",
       "       u'NumTransactionsExcluding1000', u'NumTransactionsExcluding10000',\n",
       "       u'NumTransactionsExcludingPopular', u'NumTransactionsPerBlock',\n",
       "       u'NumTransactionsTotal', u'NumUniqueAdresses', u'OutputVolume', u'Open',\n",
       "       u'High', u'Low', u'Close', u'Volume', u'Adj Close', u'TotalBitcoins',\n",
       "       u'TradeVolume', u'TransactionFees', u'TransactionFeesUSD',\n",
       "       u'TxTradeRatio', u'WikipediaTrend'],\n",
       "      dtype='object')"
      ]
     },
     "execution_count": 56,
     "metadata": {},
     "output_type": "execute_result"
    }
   ],
   "source": [
    "merged.columns"
   ]
  },
  {
   "cell_type": "code",
   "execution_count": 58,
   "metadata": {
    "autoscroll": "json-false",
    "collapsed": false,
    "ein.tags": [
     "worksheet-0"
    ]
   },
   "outputs": [],
   "source": [
    "merged.to_csv('merged.csv')"
   ]
  },
  {
   "cell_type": "code",
   "execution_count": 36,
   "metadata": {
    "autoscroll": "json-false",
    "collapsed": false,
    "ein.tags": [
     "worksheet-0"
    ]
   },
   "outputs": [],
   "source": [
    "df = pd.read_csv('avg-block-size.csv')"
   ]
  },
  {
   "cell_type": "code",
   "execution_count": 45,
   "metadata": {
    "autoscroll": "json-false",
    "collapsed": false,
    "ein.tags": [
     "worksheet-0"
    ]
   },
   "outputs": [],
   "source": [
    "df.Date = pd.DatetimeIndex(df.Date).normalize()"
   ]
  },
  {
   "cell_type": "code",
   "execution_count": 49,
   "metadata": {
    "autoscroll": "json-false",
    "collapsed": false,
    "ein.tags": [
     "worksheet-0"
    ]
   },
   "outputs": [],
   "source": [
    "df.to_csv('avg-block-size.csv', index=False)"
   ]
  },
  {
   "cell_type": "code",
   "execution_count": 50,
   "metadata": {
    "autoscroll": "json-false",
    "collapsed": false,
    "ein.tags": [
     "worksheet-0"
    ]
   },
   "outputs": [],
   "source": [
    "file_list = ['bitcoin-days-destroyed.csv',\n",
    "             'blocks-size.csv',\n",
    "             'cost-per-transaction.csv',\n",
    "             'cost-per-transaction-percent.csv',\n",
    "             'difficulty.csv',\n",
    "             'estimated-transaction-volume.csv',\n",
    "             'estimated-transaction-volume-usd.csv',\n",
    "             'euro-price-in-usd.csv',\n",
    "             'hash-rate.csv',\n",
    "             'market-cap.csv',\n",
    "             'market-price.csv',\n",
    "             'median-confirmation-time.csv',\n",
    "             'miners-revenue.csv',\n",
    "             'network-deficit.csv',\n",
    "             'n-transactions-multiple.csv',\n",
    "             'n-transactions-per-block.csv',\n",
    "             'n-transactions-total.csv',\n",
    "             'n-unique-addresses.csv',\n",
    "             'output-volume.csv',\n",
    "             'standard-and-poors-500.csv',\n",
    "             'total-bitcoins.csv',\n",
    "             'trade-volume.csv',\n",
    "             'transaction-fees.csv',\n",
    "             'transaction-fees-usd.csv',\n",
    "             'tx-trade-ratio.csv',\n",
    "             'wikipedia-trends-bitcoin-may-2016.csv']\n",
    "\n",
    "for f in file_list:\n",
    "    df = pd.read_csv(f)\n",
    "    df.Date = pd.DatetimeIndex(df.Date).normalize()\n",
    "    df.to_csv(f, index=False)"
   ]
  },
  {
   "cell_type": "code",
   "execution_count": 0,
   "metadata": {
    "autoscroll": "json-false",
    "collapsed": false,
    "ein.tags": [
     "worksheet-0"
    ]
   },
   "outputs": [],
   "source": []
  }
 ],
 "metadata": {
  "kernelspec": {
   "display_name": "Python [myEnv]",
   "name": "Python [myEnv]"
  },
  "name": "data-processing.ipynb"
 },
 "nbformat": 4,
 "nbformat_minor": 0
}
