{
 "cells": [
  {
   "cell_type": "code",
   "execution_count": 36,
   "metadata": {
    "autoscroll": "json-false",
    "collapsed": false,
    "ein.tags": [
     "worksheet-0"
    ]
   },
   "outputs": [
    {
     "name": "stdout",
     "output_type": "stream",
     "text": [
      "Using matplotlib backend: Qt4Agg\n",
      "Populating the interactive namespace from numpy and matplotlib\n"
     ]
    },
    {
     "data": {
      "text/plain": [
       "       EuroPriceInUSD\ncount     2673.000000\nmean         1.300222\nstd          0.107355\nmin          1.055200\n25%          1.253700\n50%          1.320167\n75%          1.370167\nmax          1.512000text/html<div>\n<table border=\"1\" class=\"dataframe\">\n  <thead>\n    <tr style=\"text-align: right;\">\n      <th></th>\n      <th>EuroPriceInUSD</th>\n    </tr>\n  </thead>\n  <tbody>\n    <tr>\n      <th>count</th>\n      <td>2673.000000</td>\n    </tr>\n    <tr>\n      <th>mean</th>\n      <td>1.300222</td>\n    </tr>\n    <tr>\n      <th>std</th>\n      <td>0.107355</td>\n    </tr>\n    <tr>\n      <th>min</th>\n      <td>1.055200</td>\n    </tr>\n    <tr>\n      <th>25%</th>\n      <td>1.253700</td>\n    </tr>\n    <tr>\n      <th>50%</th>\n      <td>1.320167</td>\n    </tr>\n    <tr>\n      <th>75%</th>\n      <td>1.370167</td>\n    </tr>\n    <tr>\n      <th>max</th>\n      <td>1.512000</td>\n    </tr>\n  </tbody>\n</table>\n</div>"
      ]
     },
     "execution_count": 36,
     "metadata": {},
     "output_type": "execute_result"
    }
   ],
   "source": [
    "%pylab inline\n",
    "\n",
    "import pandas as pd\n",
    "import numpy as np\n",
    "\n",
    "df = pd.read_csv(\"./euro-price-in-usd.csv\",\n",
    "                index_col=0, parse_dates=True, infer_datetime_format=True,\n",
    "                dayfirst=True)\n",
    "\n",
    "df.describe()"
   ]
  },
  {
   "cell_type": "code",
   "execution_count": 30,
   "metadata": {
    "autoscroll": "json-false",
    "collapsed": false,
    "ein.tags": [
     "worksheet-0"
    ]
   },
   "outputs": [],
   "source": [
    "idx = pd.date_range('01-01-2009', '05-03-2016')"
   ]
  },
  {
   "cell_type": "code",
   "execution_count": 31,
   "metadata": {
    "autoscroll": "json-false",
    "collapsed": false,
    "ein.tags": [
     "worksheet-0"
    ]
   },
   "outputs": [
    {
     "data": {
      "text/plain": [
       "DatetimeIndex(['2009-01-02', '2009-01-05', '2009-01-06', '2009-01-07',\n               '2009-01-08', '2009-01-09', '2009-01-12', '2009-01-13',\n               '2009-01-14', '2009-01-15',\n               ...\n               '2016-04-27', '2016-04-28', '2016-04-29', '2016-05-02',\n               '2016-05-03', '2016-05-04', '2016-05-05', '2016-05-06',\n               '2016-05-09', '2016-05-10'],\n              dtype='datetime64[ns]', length=1896, freq=None)"
      ]
     },
     "execution_count": 31,
     "metadata": {},
     "output_type": "execute_result"
    }
   ],
   "source": [
    "pd.DatetimeIndex(df.index)"
   ]
  },
  {
   "cell_type": "code",
   "execution_count": 45,
   "metadata": {
    "autoscroll": "json-false",
    "collapsed": false,
    "ein.tags": [
     "worksheet-0"
    ]
   },
   "outputs": [],
   "source": [
    "df_reindexed = df.reindex(idx)"
   ]
  },
  {
   "cell_type": "code",
   "execution_count": 46,
   "metadata": {
    "autoscroll": "json-false",
    "collapsed": false,
    "ein.tags": [
     "worksheet-0"
    ]
   },
   "outputs": [
    {
     "data": {
      "text/plain": [
       "                   Open         High          Low        Close        Volume  \\\n2009-01-01          NaN          NaN          NaN          NaN           NaN   \n2009-01-02   902.989990   934.729980   899.349976   931.799988  4.048270e+09   \n2009-01-03          NaN          NaN          NaN          NaN           NaN   \n2009-01-04          NaN          NaN          NaN          NaN           NaN   \n2009-01-05   929.169983   936.630005   919.530029   927.450012  5.413910e+09   \n2009-01-06   931.169983   943.849976   927.280029   934.700012  5.392620e+09   \n2009-01-07   927.450012   927.450012   902.369995   906.650024  4.704940e+09   \n2009-01-08   905.729980   910.000000   896.809998   909.729980  4.991550e+09   \n2009-01-09   909.909973   911.929993   888.309998   890.349976  4.716500e+09   \n2009-01-10          NaN          NaN          NaN          NaN           NaN   \n2009-01-11          NaN          NaN          NaN          NaN           NaN   \n2009-01-12   890.400024   890.400024   864.320007   870.260010  4.725050e+09   \n2009-01-13   869.789978   877.020020   862.020020   871.789978  5.567460e+09   \n2009-01-14   867.280029   867.280029   836.929993   842.619995  5.407880e+09   \n2009-01-15   841.989990   851.590027   817.039978   843.739990  7.807350e+09   \n2009-01-16   844.450012   858.130005   830.659973   850.119995  6.786040e+09   \n2009-01-17          NaN          NaN          NaN          NaN           NaN   \n2009-01-18          NaN          NaN          NaN          NaN           NaN   \n2009-01-19          NaN          NaN          NaN          NaN           NaN   \n2009-01-20   849.640015   849.640015   804.469971   805.219971  6.375230e+09   \n2009-01-21   806.770020   841.719971   804.299988   840.239990  6.467830e+09   \n2009-01-22   839.739990   839.739990   811.289978   827.500000  5.843830e+09   \n2009-01-23   822.159973   838.609985   806.070007   831.950012  5.832160e+09   \n2009-01-24          NaN          NaN          NaN          NaN           NaN   \n2009-01-25          NaN          NaN          NaN          NaN           NaN   \n2009-01-26   832.500000   852.530029   827.690002   836.570007  6.039940e+09   \n2009-01-27   837.299988   850.450012   835.400024   845.710022  5.353260e+09   \n2009-01-28   845.729980   877.859985   845.729980   874.090027  6.199180e+09   \n2009-01-29   868.890015   868.890015   844.150024   845.140015  5.067060e+09   \n2009-01-30   845.690002   851.659973   821.669983   825.880005  5.350580e+09   \n...                 ...          ...          ...          ...           ...   \n2016-04-04  2073.189941  2074.020020  2062.570068  2066.129883  3.485710e+09   \n2016-04-05  2062.500000  2062.500000  2042.560059  2045.170044  4.154920e+09   \n2016-04-06  2045.560059  2067.330078  2043.089966  2066.659912  3.750800e+09   \n2016-04-07  2063.010010  2063.010010  2033.800049  2041.910034  3.801250e+09   \n2016-04-08  2045.540039  2060.629883  2041.689941  2047.599976  3.359530e+09   \n2016-04-09          NaN          NaN          NaN          NaN           NaN   \n2016-04-10          NaN          NaN          NaN          NaN           NaN   \n2016-04-11  2050.229980  2062.929932  2041.880005  2041.989990  3.567840e+09   \n2016-04-12  2043.719971  2065.050049  2039.739990  2061.719971  4.239740e+09   \n2016-04-13  2065.919922  2083.179932  2065.919922  2082.419922  4.191830e+09   \n2016-04-14  2082.889893  2087.840088  2078.129883  2082.780029  3.765870e+09   \n2016-04-15  2083.100098  2083.219971  2076.310059  2080.729980  3.701450e+09   \n2016-04-16          NaN          NaN          NaN          NaN           NaN   \n2016-04-17          NaN          NaN          NaN          NaN           NaN   \n2016-04-18  2078.830078  2094.659912  2073.649902  2094.340088  3.316880e+09   \n2016-04-19  2096.050049  2104.050049  2091.679932  2100.800049  3.896830e+09   \n2016-04-20  2101.520020  2111.050049  2096.320068  2102.399902  4.184880e+09   \n2016-04-21  2102.090088  2103.780029  2088.520020  2091.479980  4.175290e+09   \n2016-04-22  2091.489990  2094.320068  2081.199951  2091.580078  3.790580e+09   \n2016-04-23          NaN          NaN          NaN          NaN           NaN   \n2016-04-24          NaN          NaN          NaN          NaN           NaN   \n2016-04-25  2089.370117  2089.370117  2077.520020  2087.790039  3.319740e+09   \n2016-04-26  2089.840088  2096.870117  2085.800049  2091.699951  3.557190e+09   \n2016-04-27  2092.330078  2099.889893  2082.310059  2095.149902  4.100110e+09   \n2016-04-28  2090.929932  2099.300049  2071.620117  2075.810059  4.309840e+09   \n2016-04-29          NaN          NaN          NaN          NaN           NaN   \n2016-04-30          NaN          NaN          NaN          NaN           NaN   \n2016-05-01          NaN          NaN          NaN          NaN           NaN   \n2016-05-02          NaN          NaN          NaN          NaN           NaN   \n2016-05-03          NaN          NaN          NaN          NaN           NaN   \n\n              Adj Close  \n2009-01-01          NaN  \n2009-01-02   931.799988  \n2009-01-03          NaN  \n2009-01-04          NaN  \n2009-01-05   927.450012  \n2009-01-06   934.700012  \n2009-01-07   906.650024  \n2009-01-08   909.729980  \n2009-01-09   890.349976  \n2009-01-10          NaN  \n2009-01-11          NaN  \n2009-01-12   870.260010  \n2009-01-13   871.789978  \n2009-01-14   842.619995  \n2009-01-15   843.739990  \n2009-01-16   850.119995  \n2009-01-17          NaN  \n2009-01-18          NaN  \n2009-01-19          NaN  \n2009-01-20   805.219971  \n2009-01-21   840.239990  \n2009-01-22   827.500000  \n2009-01-23   831.950012  \n2009-01-24          NaN  \n2009-01-25          NaN  \n2009-01-26   836.570007  \n2009-01-27   845.710022  \n2009-01-28   874.090027  \n2009-01-29   845.140015  \n2009-01-30   825.880005  \n...                 ...  \n2016-04-04  2066.129883  \n2016-04-05  2045.170044  \n2016-04-06  2066.659912  \n2016-04-07  2041.910034  \n2016-04-08  2047.599976  \n2016-04-09          NaN  \n2016-04-10          NaN  \n2016-04-11  2041.989990  \n2016-04-12  2061.719971  \n2016-04-13  2082.419922  \n2016-04-14  2082.780029  \n2016-04-15  2080.729980  \n2016-04-16          NaN  \n2016-04-17          NaN  \n2016-04-18  2094.340088  \n2016-04-19  2100.800049  \n2016-04-20  2102.399902  \n2016-04-21  2091.479980  \n2016-04-22  2091.580078  \n2016-04-23          NaN  \n2016-04-24          NaN  \n2016-04-25  2087.790039  \n2016-04-26  2091.699951  \n2016-04-27  2095.149902  \n2016-04-28  2075.810059  \n2016-04-29          NaN  \n2016-04-30          NaN  \n2016-05-01          NaN  \n2016-05-02          NaN  \n2016-05-03          NaN  \n\n[2680 rows x 6 columns]"
      ]
     },
     "execution_count": 46,
     "metadata": {},
     "output_type": "execute_result"
    }
   ],
   "source": [
    "df_reindexed\n"
   ]
  },
  {
   "cell_type": "code",
   "execution_count": 47,
   "metadata": {
    "autoscroll": "json-false",
    "collapsed": false,
    "ein.tags": [
     "worksheet-0"
    ]
   },
   "outputs": [
    {
     "data": {
      "text/plain": [
       "              Open         High          Low        Close        Volume  \\\ncount  1843.000000  1843.000000  1843.000000  1843.000000  1.843000e+03   \nmean   1503.136960  1511.748334  1494.049675  1503.712083  4.050046e+09   \nstd     395.499918   395.566764   395.063690   395.348338  1.136249e+09   \nmin     679.280029   695.270020   666.789978   676.530029  5.362000e+08   \n25%            NaN          NaN          NaN          NaN           NaN   \n50%            NaN          NaN          NaN          NaN           NaN   \n75%            NaN          NaN          NaN          NaN           NaN   \nmax    2130.360107  2134.719971  2126.060059  2130.820068  1.061781e+10   \n\n         Adj Close  \ncount  1843.000000  \nmean   1503.712083  \nstd     395.348338  \nmin     676.530029  \n25%            NaN  \n50%            NaN  \n75%            NaN  \nmax    2130.820068  "
      ]
     },
     "execution_count": 47,
     "metadata": {},
     "output_type": "execute_result"
    }
   ],
   "source": [
    "df_reindexed.describe()"
   ]
  },
  {
   "cell_type": "code",
   "execution_count": 48,
   "metadata": {
    "autoscroll": "json-false",
    "collapsed": false,
    "ein.tags": [
     "worksheet-0"
    ]
   },
   "outputs": [],
   "source": [
    "df_reindexed.to_csv('euro-price-in-usd-reindexed.csv')"
   ]
  },
  {
   "cell_type": "code",
   "execution_count": 49,
   "metadata": {
    "autoscroll": "json-false",
    "collapsed": false,
    "ein.tags": [
     "worksheet-0"
    ]
   },
   "outputs": [
    {
     "data": {
      "text/plain": [
       "[<matplotlib.text.Text at 0x7f775c79e1d0>,\n (733410.0, 736087.0),\n <matplotlib.text.Text at 0x7f775c7c3c10>]"
      ]
     },
     "execution_count": 49,
     "metadata": {},
     "output_type": "execute_result"
    }
   ],
   "source": [
    "ax = df.plot(figsize=(15,8))\n",
    "ax.set(xlabel = \"Date\", ylabel = \"Euro Price In USD\"\n",
    "       ,xlim=(pd.datetime(2009,1,3),pd.datetime(2016,5,3)))"
   ]
  },
  {
   "cell_type": "code",
   "execution_count": 50,
   "metadata": {
    "autoscroll": "json-false",
    "collapsed": false,
    "ein.tags": [
     "worksheet-0"
    ]
   },
   "outputs": [],
   "source": [
    "df_reindexed.interpolate(method='linear').to_csv('euro-price-in-usd.csv')"
   ]
  },
  {
   "cell_type": "code",
   "execution_count": 51,
   "metadata": {
    "autoscroll": "json-false",
    "collapsed": false,
    "ein.tags": [
     "worksheet-0"
    ]
   },
   "outputs": [
    {
     "data": {
      "text/plain": [
       "       AvgBlockSize\ncount   2673.000000\nmean       0.163963\nstd        0.208009\nmin        0.000000\n25%        0.000893\n50%        0.092265\n75%        0.241909\nmax        0.918519"
      ]
     },
     "execution_count": 51,
     "metadata": {},
     "output_type": "execute_result"
    }
   ],
   "source": [
    "df = pd.read_csv(\"avg-block-size.csv\",\n",
    "                index_col=0, parse_dates=True, infer_datetime_format=True,\n",
    "                dayfirst=True)\n",
    "\n",
    "df.describe()"
   ]
  },
  {
   "cell_type": "code",
   "execution_count": 52,
   "metadata": {
    "autoscroll": "json-false",
    "collapsed": false,
    "ein.tags": [
     "worksheet-0"
    ]
   },
   "outputs": [
    {
     "data": {
      "text/plain": [
       "                     AvgBlockSize\nDate                             \n2009-01-03 18:15:05      0.000285\n2009-01-04 18:15:05      0.000000\n2009-01-05 18:15:05      0.000000\n2009-01-06 18:15:05      0.000000\n2009-01-07 18:15:05      0.000000\n2009-01-08 18:15:05      0.000000\n2009-01-09 18:15:05      0.000215\n2009-01-10 18:15:05      0.000215\n2009-01-11 18:15:05      0.000215\n2009-01-12 18:15:05      0.000232\n2009-01-13 18:15:05      0.000218\n2009-01-14 18:15:05      0.000216\n2009-01-15 18:15:05      0.000242\n2009-01-16 18:15:05      0.000218\n2009-01-17 18:15:05      0.000218\n2009-01-18 18:15:05      0.000216\n2009-01-19 18:15:05      0.000220\n2009-01-20 18:15:05      0.000233\n2009-01-21 18:15:05      0.000228\n2009-01-22 18:15:05      0.000231\n2009-01-23 18:15:05      0.000222\n2009-01-24 18:15:05      0.000226\n2009-01-25 18:15:05      0.000217\n2009-01-26 18:15:05      0.000216\n2009-01-27 18:15:05      0.000243\n2009-01-28 18:15:05      0.000216\n2009-01-29 18:15:05      0.000215\n2009-01-30 18:15:05      0.000228\n2009-01-31 18:15:05      0.000216\n2009-02-01 18:15:05      0.000238\n...                           ...\n2016-03-30 18:15:05      0.807928\n2016-03-31 18:15:05      0.837659\n2016-04-01 18:15:05      0.731608\n2016-04-02 18:15:05      0.825544\n2016-04-03 18:15:05      0.722675\n2016-04-04 18:15:05      0.665922\n2016-04-05 18:15:05      0.779197\n2016-04-06 18:15:05      0.715765\n2016-04-07 18:15:05      0.726767\n2016-04-08 18:15:05      0.735471\n2016-04-09 18:15:05      0.635034\n2016-04-10 18:15:05      0.566713\n2016-04-11 18:15:05      0.749973\n2016-04-12 18:15:05      0.794779\n2016-04-13 18:15:05      0.727887\n2016-04-14 18:15:05      0.745874\n2016-04-15 18:15:05      0.750909\n2016-04-16 18:15:05      0.708138\n2016-04-17 18:15:05      0.652977\n2016-04-18 18:15:05      0.783668\n2016-04-19 18:15:05      0.758763\n2016-04-20 18:15:05      0.798263\n2016-04-21 18:15:05      0.668973\n2016-04-22 18:15:05      0.796928\n2016-04-23 18:15:05      0.657125\n2016-04-24 18:15:05      0.699949\n2016-04-25 18:15:05      0.842110\n2016-04-26 18:15:05      0.800002\n2016-04-27 18:15:05      0.853189\n2016-04-28 18:15:05      0.904461\n\n[2673 rows x 1 columns]"
      ]
     },
     "execution_count": 52,
     "metadata": {},
     "output_type": "execute_result"
    }
   ],
   "source": [
    "df"
   ]
  },
  {
   "cell_type": "code",
   "execution_count": 43,
   "metadata": {
    "autoscroll": "json-false",
    "collapsed": false,
    "ein.tags": [
     "worksheet-0"
    ]
   },
   "outputs": [
    {
     "data": {
      "text/plain": [
       "       AvgBlockSize\ncount   2673.000000\nmean       0.163963\nstd        0.208009\nmin        0.000000\n25%        0.000893\n50%        0.092265\n75%        0.241909\nmax        0.918519"
      ]
     },
     "execution_count": 43,
     "metadata": {},
     "output_type": "execute_result"
    }
   ],
   "source": [
    "df.describe()"
   ]
  },
  {
   "cell_type": "code",
   "execution_count": 44,
   "metadata": {
    "autoscroll": "json-false",
    "collapsed": false,
    "ein.tags": [
     "worksheet-0"
    ]
   },
   "outputs": [
    {
     "data": {
      "text/plain": [
       "              Open         High          Low        Close        Volume  \\\ncount  1843.000000  1843.000000  1843.000000  1843.000000  1.843000e+03   \nmean   1503.136960  1511.748334  1494.049675  1503.712083  4.050046e+09   \nstd     395.499918   395.566764   395.063690   395.348338  1.136249e+09   \nmin     679.280029   695.270020   666.789978   676.530029  5.362000e+08   \n25%    1177.864990  1187.255005  1167.414978  1178.099976  3.334110e+09   \n50%    1405.500000  1410.890015  1398.109985  1405.540039  3.830610e+09   \n75%    1902.265015  1917.500000  1884.590027  1903.330017  4.524820e+09   \nmax    2130.360107  2134.719971  2126.060059  2130.820068  1.061781e+10   \n\n         Adj Close  \ncount  1843.000000  \nmean   1503.712083  \nstd     395.348338  \nmin     676.530029  \n25%    1178.099976  \n50%    1405.540039  \n75%    1903.330017  \nmax    2130.820068  "
      ]
     },
     "execution_count": 44,
     "metadata": {},
     "output_type": "execute_result"
    }
   ],
   "source": [
    "df = pd.read_csv(\"standard-and-poors-500.csv\",\n",
    "                index_col=0, parse_dates=True, infer_datetime_format=True,\n",
    "                dayfirst=True)\n",
    "\n",
    "df.describe()"
   ]
  },
  {
   "cell_type": "code",
   "execution_count": 0,
   "metadata": {
    "autoscroll": "json-false",
    "collapsed": false,
    "ein.tags": [
     "worksheet-0"
    ]
   },
   "outputs": [],
   "source": [
    "idx = pd.date_range('01-01-2009', '05-03-2016')\n",
    "pd.DatetimeIndex(df.index)\n",
    "df_reindexed = df.reindex(idx)\n"
   ]
  }
 ],
 "metadata": {
  "kernelspec": {
   "display_name": "Python [myEnv]",
   "name": "Python [myEnv]"
  },
  "language_info": {
   "codemirror_mode": {
    "name": "ipython",
    "version": 2
   },
   "file_extension": ".py",
   "mimetype": "text/x-python",
   "name": "python",
   "nbconvert_exporter": "python",
   "pygments_lexer": "ipython2",
   "version": "2.7.12"
  },
  "name": "interpolate-euro-price-in-usd.ipynb"
 },
 "nbformat": 4,
 "nbformat_minor": 0
}
