{
 "cells": [
  {
   "cell_type": "code",
   "execution_count": 2,
   "metadata": {
    "autoscroll": "json-false",
    "collapsed": false,
    "ein.tags": [
     "worksheet-0"
    ]
   },
   "outputs": [
    {
     "data": {
      "text/plain": [
       "PCA(copy=True, n_components=None, whiten=False)"
      ]
     },
     "execution_count": 2,
     "metadata": {},
     "output_type": "execute_result"
    },
    {
     "name": "stdout",
     "output_type": "stream",
     "text": [
      "Populating the interactive namespace from numpy and matplotlib\n"
     ]
    }
   ],
   "source": [
    "%pylab inline\n",
    "import pandas as pd\n",
    "from sklearn import decomposition\n",
    "\n",
    "df = pd.read_csv('data-set.csv',\n",
    "index_col=0,\n",
    "parse_dates=True,\n",
    "infer_datetime_format=True,\n",
    "dayfirst=True)\n",
    "\n",
    "Xs = df[[u'AvgBlockSize', u'BitcoiDaysDestroyed', u'BitcoinDaysDestroyedCumulative',\n",
    "u'BitcoinDaysDestroyedMinMonth', u'BitcoinDaysDestroyedMinWeek',\n",
    "u'BitcoinDaysDestroyedMinYear', u'BlockSize', u'CostPerTransaction',\n",
    "u'CostPerTransactionPercent', u'Difficulty', u'EstimatedTransactionVolume',\n",
    "u'EstimatedTransactionVolumeUSD', u'EuroPriceInUSD', u'HashRate', u'MarketCap',\n",
    "u'MarketPrice', u'MedianConfirmationTime', u'MinersRevenue', u'NetworkDeficit',\n",
    "u'NumTransactions', u'NumTransactionsExcluding10', u'NumTransactionsExcluding100',\n",
    "u'NumTransactionsExcluding1000', u'NumTransactionsExcluding10000',\n",
    "u'NumTransactionsExcludingPopular', u'NumTransactionsPerBlock',\n",
    "u'NumTransactionsTotal', u'NumUniqueAdresses', u'OutputVolume', u'Open',\n",
    "u'High', u'Low', u'Close', u'Volume', u'Adj-Close', u'TotalBitcoins',\n",
    "u'TradeVolume', u'TransactionFees', u'TransactionFeesUSD',\n",
    "u'TxTradeRatio', u'WikipediaTrend']].values\n",
    "\n",
    "ys = df[[u'NextDayPrice']].values\n",
    "\n",
    "pca = decomposition.PCA()\n",
    "pca.fit(Xs)"
   ]
  },
  {
   "cell_type": "code",
   "execution_count": 3,
   "metadata": {
    "autoscroll": "json-false",
    "collapsed": false,
    "ein.tags": [
     "worksheet-0"
    ]
   },
   "outputs": [
    {
     "data": {
      "text/plain": [
       "array([[ -5.73471907,   1.34877824,   0.70507468, ...,   0.08403456,\n",
       "          0.34242361,  -0.03949246],\n",
       "       [ -5.46696113,   0.95006201,   0.40874264, ...,   0.15370571,\n",
       "          0.33481885,   0.02220637],\n",
       "       [ -5.2402885 ,   0.83406538,   0.286868  , ...,   0.14414159,\n",
       "          0.2757928 ,   0.04290215],\n",
       "       ..., \n",
       "       [ 13.69408528,   3.38022133,   2.82360487, ...,   0.89323088,\n",
       "         -0.52675702,  -0.21261456],\n",
       "       [ 19.27266166,   3.5786358 ,   2.82704835, ...,  -1.68273643,\n",
       "        -10.3110479 ,  -1.849708  ],\n",
       "       [ 14.09734801,   5.04121306,   1.69035019, ...,   0.23047729,\n",
       "         -0.25490055,  -0.29025848]])"
      ]
     },
     "execution_count": 3,
     "metadata": {},
     "output_type": "execute_result"
    }
   ],
   "source": [
    "from sklearn import preprocessing\n",
    "\n",
    "df_data = df[[u'AvgBlockSize', u'BitcoiDaysDestroyed', u'BitcoinDaysDestroyedCumulative',\n",
    "u'BitcoinDaysDestroyedMinMonth', u'BitcoinDaysDestroyedMinWeek',\n",
    "u'BitcoinDaysDestroyedMinYear', u'BlockSize', u'CostPerTransaction',\n",
    "u'CostPerTransactionPercent', u'Difficulty', u'EstimatedTransactionVolume',\n",
    "u'EstimatedTransactionVolumeUSD', u'EuroPriceInUSD', u'HashRate', u'MarketCap',\n",
    "u'MarketPrice', u'MedianConfirmationTime', u'MinersRevenue', u'NetworkDeficit',\n",
    "u'NumTransactions', u'NumTransactionsExcluding10', u'NumTransactionsExcluding100',\n",
    "u'NumTransactionsExcluding1000', u'NumTransactionsExcluding10000',\n",
    "u'NumTransactionsExcludingPopular', u'NumTransactionsPerBlock',\n",
    "u'NumTransactionsTotal', u'NumUniqueAdresses', u'OutputVolume', u'Open',\n",
    "u'High', u'Low', u'Close', u'Volume', u'Adj-Close', u'TotalBitcoins',\n",
    "u'TradeVolume', u'TransactionFees', u'TransactionFeesUSD',\n",
    "u'TxTradeRatio', u'WikipediaTrend']]\n",
    "\n",
    "data_scaled = pd.DataFrame(preprocessing.scale(df_data), columns = df_data.columns)\n",
    "\n",
    "# pca = decomposition.PCA(n_components=17)\n",
    "pca = decomposition.PCA()\n",
    "pca.fit_transform(data_scaled)"
   ]
  },
  {
   "cell_type": "code",
   "execution_count": 4,
   "metadata": {
    "autoscroll": "json-false",
    "collapsed": false,
    "ein.tags": [
     "worksheet-0"
    ]
   },
   "outputs": [
    {
     "name": "stdout",
     "output_type": "stream",
     "text": [
      "0.0870635057844 AvgBlockSize\n",
      "0.333055971755 BitcoiDaysDestroyed\n",
      "0.0714214692 BitcoinDaysDestroyedCumulative\n",
      "0.325611475282 BitcoinDaysDestroyedMinMonth\n",
      "0.334971879899 BitcoinDaysDestroyedMinWeek\n",
      "0.981431351706 BitcoinDaysDestroyedMinYear\n",
      "0.080157958929 BlockSize\n",
      "0.360569362565 CostPerTransaction\n",
      "0.999944402697 CostPerTransactionPercent\n",
      "0.315296714307 Difficulty\n",
      "0.996655190535 EstimatedTransactionVolume\n",
      "0.678409834196 EstimatedTransactionVolumeUSD\n",
      "0.9800701112 EuroPriceInUSD\n",
      "0.304663911632 HashRate\n",
      "0.151107186956 MarketCap\n",
      "0.164831035474 MarketPrice\n",
      "0.953880760405 MedianConfirmationTime\n",
      "0.195912159528 MinersRevenue\n",
      "0.198812247219 NetworkDeficit\n",
      "0.103387693344 NumTransactions\n",
      "0.115158070995 NumTransactionsExcluding10\n",
      "0.0956267088586 NumTransactionsExcluding100\n",
      "0.0941009476795 NumTransactionsExcluding1000\n",
      "0.088298451471 NumTransactionsExcluding10000\n",
      "0.092921280532 NumTransactionsExcludingPopular\n",
      "0.0868645085259 NumTransactionsPerBlock\n",
      "0.0730535174461 NumTransactionsTotal\n",
      "0.0650158061212 NumUniqueAdresses\n",
      "0.995408124832 OutputVolume\n",
      "0.171546697703 Open\n",
      "0.171374467926 High\n",
      "0.172477877925 Low\n",
      "0.171273671728 Close\n",
      "0.989397218444 Volume\n",
      "0.171273671728 Adj-Close\n",
      "0.138317492789 TotalBitcoins\n",
      "0.991164503667 TradeVolume\n",
      "0.879518395404 TransactionFees\n",
      "0.859597995634 TransactionFeesUSD\n",
      "0.960817209956 TxTradeRatio\n",
      "0.999539158021 WikipediaTrend\n"
     ]
    }
   ],
   "source": [
    "selected_vars = pd.DataFrame(pca.components_, columns=data_scaled.columns)\n",
    "\n",
    "for i in selected_vars:\n",
    "    print np.linalg.norm(selected_vars[i])**2, selected_vars[i].name"
   ]
  },
  {
   "cell_type": "code",
   "execution_count": 7,
   "metadata": {
    "autoscroll": "json-false",
    "collapsed": false,
    "ein.tags": [
     "worksheet-0"
    ]
   },
   "outputs": [
    {
     "data": {
      "text/plain": [
       "array([ 23.57269509,   4.31178312,   3.23949096,   2.02106724,\n",
       "         1.24305134,   1.01001168,   0.99413128,   0.84594118,\n",
       "         0.76832284,   0.69082301,   0.53203328,   0.4044271 ,\n",
       "         0.27214375,   0.24994905,   0.16519877,   0.15239068,   0.13537071])"
      ]
     },
     "execution_count": 7,
     "metadata": {},
     "output_type": "execute_result"
    }
   ],
   "source": [
    "pca.explained_variance_"
   ]
  }
 ],
 "metadata": {
  "kernelspec": {
   "display_name": "Python [myEnv]",
   "name": "Python [myEnv]"
  },
  "name": "pca-02.ipynb"
 },
 "nbformat": 4,
 "nbformat_minor": 0
}
