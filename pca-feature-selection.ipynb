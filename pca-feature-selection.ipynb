{
 "cells": [
  {
   "cell_type": "code",
   "execution_count": 11,
   "metadata": {
    "autoscroll": "json-false",
    "collapsed": false,
    "ein.tags": [
     "worksheet-0"
    ]
   },
   "outputs": [
    {
     "data": {
      "text/plain": [
       "PCA(copy=True, n_components=None, whiten=False)"
      ]
     },
     "execution_count": 11,
     "metadata": {},
     "output_type": "execute_result"
    },
    {
     "name": "stdout",
     "output_type": "stream",
     "text": [
      "Populating the interactive namespace from numpy and matplotlib\n"
     ]
    }
   ],
   "source": [
    "%pylab inline\n",
    "import pandas as pd\n",
    "from sklearn import decomposition\n",
    "\n",
    "df = pd.read_csv('data-set.csv',\n",
    "                 index_col=0,\n",
    "                 parse_dates=True,\n",
    "                 infer_datetime_format=True,\n",
    "                 dayfirst=True)\n",
    "\n",
    "Xs = df[[u'AvgBlockSize', u'BitcoiDaysDestroyed', u'BitcoinDaysDestroyedCumulative',\n",
    "         u'BitcoinDaysDestroyedMinMonth', u'BitcoinDaysDestroyedMinWeek',\n",
    "         u'BitcoinDaysDestroyedMinYear', u'BlockSize', u'CostPerTransaction',\n",
    "         u'CostPerTransactionPercent', u'Difficulty', u'EstimatedTransactionVolume',\n",
    "         u'EstimatedTransactionVolumeUSD', u'EuroPriceInUSD', u'HashRate', u'MarketCap',\n",
    "         u'MarketPrice', u'MedianConfirmationTime', u'MinersRevenue', u'NetworkDeficit',\n",
    "         u'NumTransactions', u'NumTransactionsExcluding10', u'NumTransactionsExcluding100',\n",
    "         u'NumTransactionsExcluding1000', u'NumTransactionsExcluding10000',\n",
    "         u'NumTransactionsExcludingPopular', u'NumTransactionsPerBlock',\n",
    "         u'NumTransactionsTotal', u'NumUniqueAdresses', u'OutputVolume', u'Open',\n",
    "         u'High', u'Low', u'Close', u'Volume', u'Adj-Close', u'TotalBitcoins',\n",
    "         u'TradeVolume', u'TransactionFees', u'TransactionFeesUSD',\n",
    "         u'TxTradeRatio', u'WikipediaTrend']].values\n",
    "\n",
    "ys = df[[u'NextDayPrice']].values\n",
    "\n",
    "pca = decomposition.PCA()\n",
    "pca.fit(Xs)"
   ]
  },
  {
   "cell_type": "code",
   "execution_count": 13,
   "metadata": {
    "autoscroll": "json-false",
    "collapsed": false,
    "ein.tags": [
     "worksheet-0"
    ]
   },
   "outputs": [
    {
     "data": {
      "image/png": "[encoded data removed]",
      "text/plain": [
       "<matplotlib.figure.Figure at 0x7fd72ce31690>"
      ]
     },
     "metadata": {},
     "output_type": "display_data"
    },
    {
     "data": {
      "text/plain": [
       "<matplotlib.axes._subplots.AxesSubplot at 0x7fd72ce12990>"
      ]
     },
     "execution_count": 13,
     "metadata": {},
     "output_type": "execute_result"
    }
   ],
   "source": [
    "explained_variance_df = pd.DataFrame(data = pca.explained_variance_)\n",
    "explained_variance_df.plot(figsize = (15,15))"
   ]
  },
  {
   "cell_type": "code",
   "execution_count": 48,
   "metadata": {
    "autoscroll": "json-false",
    "collapsed": false,
    "ein.tags": [
     "worksheet-0"
    ]
   },
   "outputs": [],
   "source": [
    "i = np.identity(Xs.shape[1])\n",
    "coef = pca.transform(i)\n",
    "coef[:,:17]\n",
    "df_coef_features = pd.DataFrame(coef[:,:17], index = df.columns[:-1])"
   ]
  },
  {
   "cell_type": "code",
   "execution_count": 67,
   "metadata": {
    "autoscroll": "json-false",
    "collapsed": false,
    "ein.tags": [
     "worksheet-0"
    ]
   },
   "outputs": [
    {
     "name": "stdout",
     "output_type": "stream",
     "text": [
      "0.0896845659678 AvgBlockSize\n",
      "0.333263166283 BitcoiDaysDestroyed\n",
      "0.0733870524562 BitcoinDaysDestroyedCumulative\n",
      "0.325798808341 BitcoinDaysDestroyedMinMonth\n",
      "0.335165170323 BitcoinDaysDestroyedMinWeek\n",
      "0.981633436326 BitcoinDaysDestroyedMinYear\n",
      "0.0829583163008 BlockSize\n",
      "0.360451813539 CostPerTransaction\n",
      "0.99995337354 CostPerTransactionPercent\n",
      "0.316715853455 Difficulty\n",
      "0.997143007516 EstimatedTransactionVolume\n",
      "0.682535633041 EstimatedTransactionVolumeUSD\n",
      "0.979093545827 EuroPriceInUSD\n",
      "0.306811864837 HashRate\n",
      "0.152377267419 MarketCap\n",
      "0.165854649357 MarketPrice\n",
      "0.954755351007 MedianConfirmationTime\n",
      "0.196779714412 MinersRevenue\n",
      "0.198091263399 NetworkDeficit\n",
      "0.105950267391 NumTransactions\n",
      "0.117760345163 NumTransactionsExcluding10\n",
      "0.0983541777502 NumTransactionsExcluding100\n",
      "0.0967882402226 NumTransactionsExcluding1000\n",
      "0.0909279764382 NumTransactionsExcluding10000\n",
      "0.0956424895112 NumTransactionsExcludingPopular\n",
      "0.0896542766486 NumTransactionsPerBlock\n",
      "0.0757628355749 NumTransactionsTotal\n",
      "0.0678351135984 NumUniqueAdresses\n",
      "0.995933529306 OutputVolume\n",
      "0.172668953194 Open\n",
      "0.172504843752 High\n",
      "0.173597365444 Low\n",
      "0.172405758659 Close\n",
      "0.989631516845 Volume\n",
      "0.172405758659 Adj-Close\n",
      "0.139434120582 TotalBitcoins\n",
      "0.991613638724 TradeVolume\n",
      "0.881394111873 TransactionFees\n",
      "0.862744817776 TransactionFeesUSD\n",
      "0.96216194959 TxTradeRatio\n",
      "0.999630235493 WikipediaTrend\n"
     ]
    }
   ],
   "source": [
    "for index,row in df_coef_features.iterrows():\n",
    "    print np.linalg.norm(row)**2, row.name"
   ]
  }
 ],
 "metadata": {
  "kernelspec": {
   "display_name": "Python [myEnv]",
   "name": "Python [myEnv]"
  },
  "name": "pca-feature-selection.ipynb"
 },
 "nbformat": 4,
 "nbformat_minor": 0
}
