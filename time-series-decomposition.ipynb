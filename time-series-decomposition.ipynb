{
 "cells": [
  {
   "cell_type": "code",
   "execution_count": 1,
   "metadata": {
    "autoscroll": "json-false",
    "collapsed": false,
    "ein.tags": [
     "worksheet-0"
    ]
   },
   "outputs": [
    {
     "name": "stdout",
     "output_type": "stream",
     "text": [
      "3.5.2 |Anaconda 4.1.1 (64-bit)| (default, Jul  2 2016, 17:53:06) \n",
      "[GCC 4.4.7 20120313 (Red Hat 4.4.7-1)]\n"
     ]
    }
   ],
   "source": [
    "import sys\n",
    "print(sys.version)"
   ]
  },
  {
   "cell_type": "code",
   "execution_count": 2,
   "metadata": {
    "autoscroll": "json-false",
    "collapsed": false,
    "ein.tags": [
     "worksheet-0"
    ]
   },
   "outputs": [
    {
     "name": "stdout",
     "output_type": "stream",
     "text": [
      "Populating the interactive namespace from numpy and matplotlib\n"
     ]
    }
   ],
   "source": [
    "%pylab inline\n",
    "import pandas as pd\n",
    "import statsmodels.api as sm"
   ]
  },
  {
   "cell_type": "code",
   "execution_count": 17,
   "metadata": {
    "autoscroll": "json-false",
    "collapsed": false,
    "ein.tags": [
     "worksheet-0"
    ]
   },
   "outputs": [],
   "source": [
    "# Read csv without with 'Date' column as regular column instead of\n",
    "# index (it's the default behaviour).\n",
    "\n",
    "marketPriceDf = pd.read_csv('data-set-ordered.csv',\n",
    "                            usecols = ['Date', 'MarketPrice'],\n",
    "                            parse_dates=True,\n",
    "                            index_col=0,\n",
    "                            squeeze=True)"
   ]
  },
  {
   "cell_type": "code",
   "execution_count": 18,
   "metadata": {
    "autoscroll": "json-false",
    "collapsed": false,
    "ein.tags": [
     "worksheet-0"
    ]
   },
   "outputs": [],
   "source": [
    "# marketPriceDf = marketPriceDf.asfreq('D')\n",
    "marketPriceDf.interpolate(inplace=True)"
   ]
  },
  {
   "cell_type": "code",
   "execution_count": 20,
   "metadata": {
    "autoscroll": "json-false",
    "collapsed": false,
    "ein.tags": [
     "worksheet-0"
    ]
   },
   "outputs": [
    {
     "data": {
      "text/plain": [
       "DatetimeIndex(['2009-01-03', '2009-01-04', '2009-01-05', '2009-01-06',\n",
       "               '2009-01-07', '2009-01-08', '2009-01-09', '2009-01-10',\n",
       "               '2009-01-11', '2009-01-12',\n",
       "               ...\n",
       "               '2016-04-18', '2016-04-19', '2016-04-20', '2016-04-21',\n",
       "               '2016-04-22', '2016-04-23', '2016-04-24', '2016-04-25',\n",
       "               '2016-04-26', '2016-04-27'],\n",
       "              dtype='datetime64[ns]', name='Date', length=2639, freq=None)"
      ]
     },
     "execution_count": 20,
     "metadata": {},
     "output_type": "execute_result"
    }
   ],
   "source": [
    "marketPriceDf.index"
   ]
  },
  {
   "cell_type": "code",
   "execution_count": 19,
   "metadata": {
    "autoscroll": "json-false",
    "collapsed": false,
    "ein.tags": [
     "worksheet-0"
    ]
   },
   "outputs": [
    {
     "data": {
      "image/png": "[encoded data removed]",
      "text/plain": [
       "<matplotlib.figure.Figure at 0x7f7e892a6eb8>"
      ]
     },
     "metadata": {},
     "output_type": "display_data"
    },
    {
     "data": {
      "text/plain": [
       "<matplotlib.axes._subplots.AxesSubplot at 0x7f7e892589b0>"
      ]
     },
     "execution_count": 19,
     "metadata": {},
     "output_type": "execute_result"
    }
   ],
   "source": [
    "marketPriceDf.plot()"
   ]
  },
  {
   "cell_type": "code",
   "execution_count": 15,
   "metadata": {
    "autoscroll": "json-false",
    "collapsed": false,
    "ein.tags": [
     "worksheet-0"
    ]
   },
   "outputs": [
    {
     "data": {
      "text/plain": [
       "<module 'statsmodels.api' from '/home/zaka/anaconda2/envs/py3k/lib/python3.5/site-packages/statsmodels/api.py'>"
      ]
     },
     "execution_count": 15,
     "metadata": {},
     "output_type": "execute_result"
    }
   ],
   "source": [
    "import importlib\n",
    "importlib.reload(sm)"
   ]
  },
  {
   "cell_type": "code",
   "execution_count": 16,
   "metadata": {
    "autoscroll": "json-false",
    "collapsed": false,
    "ein.tags": [
     "worksheet-0"
    ]
   },
   "outputs": [
    {
     "name": "stderr",
     "output_type": "stream",
     "text": [
      "/home/zaka/anaconda2/envs/py3k/lib/python3.5/site-packages/statsmodels/tsa/filters/filtertools.py:28: VisibleDeprecationWarning: using a non-integer number instead of an integer will result in an error in the future\n",
      "  return np.r_[[np.nan] * head, x, [np.nan] * tail]\n"
     ]
    }
   ],
   "source": [
    "# TODO: tsa.seasonal_decompose needs a DataFrame with DatetimeIndex\n",
    "# as the index.\n",
    "# Code found at:\n",
    "# http://stackoverflow.com/questions/20672236/time-series-decomposition-function-in-python\n",
    "# s = sm.tsa.seasonal_decompose(marketPriceDf, freq = 'D')\n",
    "s = sm.tsa.seasonal_decompose(marketPriceDf)"
   ]
  },
  {
   "cell_type": "code",
   "execution_count": 8,
   "metadata": {
    "autoscroll": "json-false",
    "collapsed": false,
    "ein.tags": [
     "worksheet-0"
    ]
   },
   "outputs": [],
   "source": [
    "# Send question to stackoverflow about DatetimeIndex not plotting correctly\n",
    "# First order and interpolate the data-set.csv"
   ]
  },
  {
   "cell_type": "code",
   "execution_count": 9,
   "metadata": {
    "autoscroll": "json-false",
    "collapsed": false,
    "ein.tags": [
     "worksheet-0"
    ]
   },
   "outputs": [],
   "source": [
    "# TODO: Try to convert back and forth between DatetimeIndex and\n",
    "# datetime.datetime in order to work with seasonal_decompose and\n",
    "# been able to plot it."
   ]
  }
 ],
 "metadata": {
  "kernelspec": {
   "display_name": "Python [py3k]",
   "name": "Python [py3k]"
  },
  "name": "time-series-decomposition-python-3.ipynb"
 },
 "nbformat": 4,
 "nbformat_minor": 0
}
